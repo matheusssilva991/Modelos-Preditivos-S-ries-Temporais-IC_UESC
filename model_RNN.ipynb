{
 "cells": [
  {
   "cell_type": "code",
   "execution_count": null,
   "metadata": {
    "ExecuteTime": {
     "end_time": "2022-08-30T22:26:42.843503Z",
     "start_time": "2022-08-30T22:26:39.736492Z"
    },
    "pycharm": {
     "name": "#%%\n"
    },
    "tags": []
   },
   "outputs": [],
   "source": [
    "import pandas as pd\n",
    "import json\n",
    "import configparser\n",
    "from pathlib import Path\n",
    "import os\n",
    "\n",
    "import tensorflow as tf\n",
    "from tensorflow.keras.models import Sequential\n",
    "from tensorflow.keras.layers import Dense\n",
    "from tensorflow.keras.layers import SimpleRNN\n",
    "\n",
    "configs = configparser.ConfigParser()\n",
    "configs.read(\"configuracoes.conf\",encoding='utf-8')\n",
    "data_folder = Path(configs[\"DEFAULT\"][\"folder_path\"])\n",
    "path = data_folder / configs[\"DEFAULT\"][\"file\"]\n",
    "objeto = configs[\"DEFAULT\"][\"objeto\"]\n",
    "regiao = configs[\"DEFAULT\"][\"regiao\"]\n",
    "\n",
    "look_back = 12 #Quantidade de meses anteriores usado para prever\n",
    "forecast_horizon = int(configs[\"DEFAULT\"][\"meses\"]) #Quantidade de meses a serem previstos"
   ]
  },
  {
   "cell_type": "markdown",
   "metadata": {
    "pycharm": {
     "name": "#%% md\n"
    }
   },
   "source": [
    "# Prever Cesta"
   ]
  },
  {
   "cell_type": "code",
   "execution_count": null,
   "metadata": {
    "collapsed": true,
    "jupyter": {
     "outputs_hidden": true
    },
    "pycharm": {
     "is_executing": true,
     "name": "#%%\n"
    }
   },
   "outputs": [],
   "source": [
    "#Carrega os dados\n",
    "cesta = pd.read_excel(path)\n",
    "cesta.drop(['ano'], axis=1, inplace=True)\n",
    "cesta = cesta / 1000\n",
    "cesta = cesta.iloc[::, ::]\n",
    "\n",
    "#Cria sequencias de tempo de tamanho (meses anteriores + meses a serem previstos)\n",
    "for n_step in range(1, look_back + forecast_horizon):\n",
    "    cesta[f'preco t(h + {n_step})'] = cesta['preco'].shift(-n_step).values\n",
    "cesta.dropna(inplace=True)\n",
    "cesta.reset_index(drop=True, inplace=True)\n",
    "\n",
    "#Divide os dados em Treino e Teste\n",
    "X_train = cesta.iloc[::, :look_back:].values\n",
    "y_train = cesta.iloc[::, look_back::].values\n",
    "X_val = cesta.iloc[-1::, -12::].values\n",
    "\n",
    "#remodela os dados para formato (batches, sequencia de tempo, features)\n",
    "X_train = X_train.reshape((X_train.shape[0], X_train.shape[1], 1))\n",
    "X_val = X_val.reshape((X_val.shape[0], X_val.shape[1], 1))\n",
    "\n",
    "#Cria o modelo\n",
    "model=Sequential()\n",
    "model.add(SimpleRNN(24, stateful=True, input_shape=(look_back, 1), batch_input_shape=(1, look_back, 1)))\n",
    "model.add(Dense(forecast_horizon))\n",
    "model.compile(loss='mean_squared_error', optimizer=tf.keras.optimizers.Adam(learning_rate=0.0003))\n",
    "\n",
    "#Treina e prever (forecast_horizon) quantidade de tempo\n",
    "history = model.fit(X_train, y_train, epochs= 150, batch_size=1, shuffle=False)\n",
    "forecast = model.predict(X_val, batch_size=1)\n",
    "\n",
    "resultados = [valor for valor in forecast[0]]\n",
    "objeto = objeto.replace(\" \",'_')\n",
    "output = {objeto.lower():str(resultados)}\n",
    "\n",
    "if forecast_horizon == 12:\n",
    "    filename = f\"previsao_RNN_12_meses_{objeto.lower()}_{regiao.lower()}.json\"\n",
    "else:\n",
    "    filename = f\"previsao_RNN_{objeto.lower()}_{regiao.lower()}.json\"\n",
    "    \n",
    "pasta_atual = os.getcwd()\n",
    "full_url = Path(pasta_atual) / 'resultados' / 'previsoes_cesta' / filename\n",
    "os.makedirs(os.path.dirname(full_url), exist_ok=True)\n",
    "with open(full_url,\"w\") as file:\n",
    "    json.dump(output,file,ensure_ascii=False)\n",
    "print(\"Arquivo com resultados gerados\")"
   ]
  },
  {
   "cell_type": "markdown",
   "metadata": {},
   "source": [
    "# Prever Produtos"
   ]
  },
  {
   "cell_type": "code",
   "execution_count": null,
   "metadata": {
    "ExecuteTime": {
     "end_time": "2022-08-30T22:39:16.986592Z",
     "start_time": "2022-08-30T22:26:46.487173Z"
    },
    "tags": []
   },
   "outputs": [],
   "source": [
    "path_inicial = os.getcwd() + \"\\\\datasets_cestas\\\\datasets_produtos\\\\\"\n",
    "\n",
    "regioes = ['ilheus','itabuna']\n",
    "produtos = ['acucar', 'arroz', 'banana', 'cafe', 'carne', 'farinha', 'feijao', 'leite', \n",
    "            'manteiga', 'oleo', 'pao', 'tomate']\n",
    "\n",
    "for regiao in regioes:\n",
    "    for objeto in produtos:\n",
    "        #Carrega os dados\n",
    "        path = f'{path_inicial}{regiao}/{objeto}_{regiao}.xlsx'\n",
    "        cesta = pd.read_excel(path)\n",
    "        cesta.drop(['ano'], axis=1, inplace=True)\n",
    "        cesta = cesta / 1000\n",
    "        cesta = cesta.iloc[::]\n",
    "\n",
    "        #Cria sequencias de tempo de tamanho (meses anteriores + meses a serem previstos)\n",
    "        for n_step in range(1, look_back + forecast_horizon):\n",
    "            cesta[f'preco t(h + {n_step})'] = cesta['preco'].shift(-n_step).values\n",
    "        cesta.dropna(inplace=True)\n",
    "        cesta.reset_index(drop=True, inplace=True)\n",
    "\n",
    "        #Divide os dados em Treino e Teste\n",
    "        X_train = cesta.iloc[::, :look_back:].values\n",
    "        y_train = cesta.iloc[::, look_back::].values\n",
    "        X_val = cesta.iloc[-1::, -12::].values\n",
    "\n",
    "        #remodela os dados para formato (batches, sequencia de tempo, features)\n",
    "        X_train = X_train.reshape((X_train.shape[0], X_train.shape[1], 1))\n",
    "        X_val = X_val.reshape((X_val.shape[0], X_val.shape[1], 1))\n",
    "\n",
    "        #Cria o modelo\n",
    "        model=Sequential()\n",
    "        model.add(SimpleRNN(24, stateful=True, input_shape=(look_back, 1), batch_input_shape=(1, look_back, 1)))\n",
    "        model.add(Dense(forecast_horizon))\n",
    "        model.compile(loss='mean_squared_error', optimizer=tf.keras.optimizers.Adam(learning_rate=0.0003))\n",
    "\n",
    "        #Treina e prever (forecast_horizon) quantidade de tempo\n",
    "        history = model.fit(X_train, y_train, epochs= 150, batch_size=1, shuffle=False)\n",
    "        forecast = model.predict(X_val, batch_size=1)\n",
    "\n",
    "        resultados = [valor for valor in forecast[0]]\n",
    "        objeto = objeto.replace(\" \", '_')\n",
    "        output = {objeto.lower():str(resultados)}\n",
    "        \n",
    "        if forecast_horizon == 12:\n",
    "            filename = f\"previsao_RNN_12_meses_{objeto.lower()}_{regiao.lower()}.json\"\n",
    "        else:\n",
    "            filename = f\"previsao_RNN_{objeto.lower()}_{regiao.lower()}.json\"\n",
    "        \n",
    "        pasta_atual = os.getcwd()\n",
    "        full_url = Path(pasta_atual) / 'resultados' / 'previsoes_produtos' / f'{regiao}' / filename\n",
    "        os.makedirs(os.path.dirname(full_url), exist_ok=True)\n",
    "        with open(full_url,\"w\") as file:\n",
    "            json.dump(output,file,ensure_ascii=False)\n",
    "        print(\"Arquivo com resultados gerados\")"
   ]
  }
 ],
 "metadata": {
  "interpreter": {
   "hash": "4c8cfff8af0e30968d2414d89ba4bd2a83bc5003522a462a33742c5deaab3275"
  },
  "kernelspec": {
   "display_name": "Python 3 (ipykernel)",
   "language": "python",
   "name": "python3"
  },
  "language_info": {
   "codemirror_mode": {
    "name": "ipython",
    "version": 3
   },
   "file_extension": ".py",
   "mimetype": "text/x-python",
   "name": "python",
   "nbconvert_exporter": "python",
   "pygments_lexer": "ipython3",
   "version": "3.8.13 (default, Oct 19 2022, 22:38:03) [MSC v.1916 64 bit (AMD64)]"
  }
 },
 "nbformat": 4,
 "nbformat_minor": 4
}
